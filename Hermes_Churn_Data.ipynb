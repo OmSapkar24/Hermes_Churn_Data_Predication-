{
 "cells": [
  {
   "cell_type": "code",
   "execution_count": 2,
   "id": "76584b31-94a2-4f73-8735-e985f18a3528",
   "metadata": {
    "tags": []
   },
   "outputs": [
    {
     "name": "stdout",
     "output_type": "stream",
     "text": [
      "Collecting xgboost\n",
      "  Obtaining dependency information for xgboost from https://files.pythonhosted.org/packages/28/3c/ddf5d9eb742cdb7fbcd5c854bce07471bad01194ac37de91db64fbef0c58/xgboost-2.1.3-py3-none-macosx_12_0_arm64.whl.metadata\n",
      "  Downloading xgboost-2.1.3-py3-none-macosx_12_0_arm64.whl.metadata (2.1 kB)\n",
      "Requirement already satisfied: numpy in ./anaconda3/envs/ai-demo/lib/python3.11/site-packages (from xgboost) (1.26.0)\n",
      "Requirement already satisfied: scipy in ./anaconda3/envs/ai-demo/lib/python3.11/site-packages (from xgboost) (1.14.1)\n",
      "Downloading xgboost-2.1.3-py3-none-macosx_12_0_arm64.whl (1.9 MB)\n",
      "\u001b[2K   \u001b[90m━━━━━━━━━━━━━━━━━━━━━━━━━━━━━━━━━━━━━━━━\u001b[0m \u001b[32m1.9/1.9 MB\u001b[0m \u001b[31m23.2 MB/s\u001b[0m eta \u001b[36m0:00:00\u001b[0m00:01\u001b[0m00:01\u001b[0m\n",
      "\u001b[?25hInstalling collected packages: xgboost\n",
      "Successfully installed xgboost-2.1.3\n",
      "Note: you may need to restart the kernel to use updated packages.\n"
     ]
    }
   ],
   "source": [
    "pip install xgboost"
   ]
  },
  {
   "cell_type": "code",
   "execution_count": 6,
   "id": "5a7a24ca-ca04-4b5e-9606-733fd1170f56",
   "metadata": {
    "tags": []
   },
   "outputs": [],
   "source": [
    "# Importing required libraries\n",
    "import pandas as pd\n",
    "import numpy as np\n",
    "from sklearn.model_selection import train_test_split\n",
    "from sklearn.tree import DecisionTreeClassifier\n",
    "from sklearn.metrics import classification_report, accuracy_score, roc_auc_score\n",
    "import xgboost as xgb\n",
    "import matplotlib.pyplot as plt"
   ]
  },
  {
   "cell_type": "code",
   "execution_count": 7,
   "id": "0486bded-c0ce-485d-b8d4-b0d9d6eedcfc",
   "metadata": {
    "tags": []
   },
   "outputs": [
    {
     "name": "stdout",
     "output_type": "stream",
     "text": [
      "   CustomerID  Gender  Age  TenureMonths  MonthlyCharges  TotalCharges  \\\n",
      "0           1  Female   28            41           92.86       3316.31   \n",
      "1           2  Female   27            10           84.57       3854.69   \n",
      "2           3  Female   64            62          118.57       6426.24   \n",
      "3           4  Female   56            26           41.39       6516.08   \n",
      "4           5    Male   51            68           79.79       5897.41   \n",
      "\n",
      "   NumSupportCalls  IsSeniorCitizen Partner Dependents  ...        Contract  \\\n",
      "0                6                0     Yes         No  ...  Month-to-month   \n",
      "1                0                0      No        Yes  ...  Month-to-month   \n",
      "2                8                0      No        Yes  ...        Two year   \n",
      "3                7                0      No        Yes  ...  Month-to-month   \n",
      "4                1                0      No        Yes  ...  Month-to-month   \n",
      "\n",
      "               PaymentMethod StreamingTV StreamingMovies DeviceProtection  \\\n",
      "0    Credit card (automatic)         Yes             Yes              Yes   \n",
      "1    Credit card (automatic)         Yes              No              Yes   \n",
      "2  Bank transfer (automatic)          No             Yes              Yes   \n",
      "3           Electronic check         Yes             Yes              Yes   \n",
      "4           Electronic check          No              No              Yes   \n",
      "\n",
      "  TechSupport PaperlessBilling ContractLength   Brand Churn  \n",
      "0          No               No             33  Hermes     0  \n",
      "1         Yes               No             21  Hermes     1  \n",
      "2         Yes               No             16  Hermes     0  \n",
      "3         Yes              Yes             23  Hermes     0  \n",
      "4         Yes               No             10  Hermes     1  \n",
      "\n",
      "[5 rows x 21 columns]\n"
     ]
    }
   ],
   "source": [
    "# Load the dataset\n",
    "file_path = \"Downloads/hermes_churn_data_complex.csv\"  # Adjust path if necessary\n",
    "data = pd.read_csv(file_path)\n",
    "\n",
    "# Display the first few rows\n",
    "print(data.head())"
   ]
  },
  {
   "cell_type": "code",
   "execution_count": 8,
   "id": "bef4cdf6-e4ed-441d-a203-61c63e6229f1",
   "metadata": {
    "tags": []
   },
   "outputs": [
    {
     "name": "stdout",
     "output_type": "stream",
     "text": [
      "<class 'pandas.core.frame.DataFrame'>\n",
      "RangeIndex: 1000 entries, 0 to 999\n",
      "Data columns (total 21 columns):\n",
      " #   Column            Non-Null Count  Dtype  \n",
      "---  ------            --------------  -----  \n",
      " 0   CustomerID        1000 non-null   int64  \n",
      " 1   Gender            1000 non-null   object \n",
      " 2   Age               1000 non-null   int64  \n",
      " 3   TenureMonths      1000 non-null   int64  \n",
      " 4   MonthlyCharges    1000 non-null   float64\n",
      " 5   TotalCharges      1000 non-null   float64\n",
      " 6   NumSupportCalls   1000 non-null   int64  \n",
      " 7   IsSeniorCitizen   1000 non-null   int64  \n",
      " 8   Partner           1000 non-null   object \n",
      " 9   Dependents        1000 non-null   object \n",
      " 10  InternetService   1000 non-null   object \n",
      " 11  Contract          1000 non-null   object \n",
      " 12  PaymentMethod     1000 non-null   object \n",
      " 13  StreamingTV       1000 non-null   object \n",
      " 14  StreamingMovies   1000 non-null   object \n",
      " 15  DeviceProtection  1000 non-null   object \n",
      " 16  TechSupport       1000 non-null   object \n",
      " 17  PaperlessBilling  1000 non-null   object \n",
      " 18  ContractLength    1000 non-null   int64  \n",
      " 19  Brand             1000 non-null   object \n",
      " 20  Churn             1000 non-null   int64  \n",
      "dtypes: float64(2), int64(7), object(12)\n",
      "memory usage: 164.2+ KB\n",
      "None\n",
      "        CustomerID          Age  TenureMonths  MonthlyCharges  TotalCharges  \\\n",
      "count  1000.000000  1000.000000   1000.000000     1000.000000   1000.000000   \n",
      "mean    500.500000    43.079000     35.547000       69.838330   4266.223040   \n",
      "std     288.819436    15.131878     20.762342       28.365346   2159.546188   \n",
      "min       1.000000    18.000000      1.000000       20.010000    501.810000   \n",
      "25%     250.750000    31.000000     17.000000       46.017500   2388.940000   \n",
      "50%     500.500000    42.000000     35.000000       70.125000   4324.025000   \n",
      "75%     750.250000    56.000000     53.000000       93.460000   6082.115000   \n",
      "max    1000.000000    69.000000     71.000000      119.900000   7998.630000   \n",
      "\n",
      "       NumSupportCalls  IsSeniorCitizen  ContractLength        Churn  \n",
      "count      1000.000000      1000.000000     1000.000000  1000.000000  \n",
      "mean          4.431000         0.203000       18.258000     0.296000  \n",
      "std           2.821915         0.402434        9.809672     0.456719  \n",
      "min           0.000000         0.000000        1.000000     0.000000  \n",
      "25%           2.000000         0.000000       10.000000     0.000000  \n",
      "50%           4.000000         0.000000       18.000000     0.000000  \n",
      "75%           7.000000         0.000000       26.000000     1.000000  \n",
      "max           9.000000         1.000000       35.000000     1.000000  \n",
      "CustomerID          0\n",
      "Gender              0\n",
      "Age                 0\n",
      "TenureMonths        0\n",
      "MonthlyCharges      0\n",
      "TotalCharges        0\n",
      "NumSupportCalls     0\n",
      "IsSeniorCitizen     0\n",
      "Partner             0\n",
      "Dependents          0\n",
      "InternetService     0\n",
      "Contract            0\n",
      "PaymentMethod       0\n",
      "StreamingTV         0\n",
      "StreamingMovies     0\n",
      "DeviceProtection    0\n",
      "TechSupport         0\n",
      "PaperlessBilling    0\n",
      "ContractLength      0\n",
      "Brand               0\n",
      "Churn               0\n",
      "dtype: int64\n"
     ]
    }
   ],
   "source": [
    "# Dataset overview\n",
    "print(data.info())\n",
    "\n",
    "# Summary statistics\n",
    "print(data.describe())\n",
    "\n",
    "# Checking for missing values\n",
    "print(data.isnull().sum())"
   ]
  },
  {
   "cell_type": "code",
   "execution_count": 9,
   "id": "30e2f2a3-9184-4adb-be35-5f4c11ce7979",
   "metadata": {
    "tags": []
   },
   "outputs": [
    {
     "name": "stdout",
     "output_type": "stream",
     "text": [
      "   CustomerID  Gender  Age  TenureMonths  MonthlyCharges  TotalCharges  \\\n",
      "0           1       0   28            41           92.86       3316.31   \n",
      "1           2       0   27            10           84.57       3854.69   \n",
      "2           3       0   64            62          118.57       6426.24   \n",
      "3           4       0   56            26           41.39       6516.08   \n",
      "4           5       1   51            68           79.79       5897.41   \n",
      "\n",
      "   NumSupportCalls  IsSeniorCitizen  Partner  Dependents  ...  Contract  \\\n",
      "0                6                0        1           0  ...         0   \n",
      "1                0                0        0           1  ...         0   \n",
      "2                8                0        0           1  ...         2   \n",
      "3                7                0        0           1  ...         0   \n",
      "4                1                0        0           1  ...         0   \n",
      "\n",
      "   PaymentMethod  StreamingTV  StreamingMovies  DeviceProtection  TechSupport  \\\n",
      "0              1            1                1                 1            0   \n",
      "1              1            1                0                 1            1   \n",
      "2              0            0                1                 1            1   \n",
      "3              2            1                1                 1            1   \n",
      "4              2            0                0                 1            1   \n",
      "\n",
      "   PaperlessBilling  ContractLength  Brand  Churn  \n",
      "0                 0              33      0      0  \n",
      "1                 0              21      0      1  \n",
      "2                 0              16      0      0  \n",
      "3                 1              23      0      0  \n",
      "4                 0              10      0      1  \n",
      "\n",
      "[5 rows x 21 columns]\n"
     ]
    }
   ],
   "source": [
    "from sklearn.preprocessing import LabelEncoder\n",
    "\n",
    "# Encode categorical variables\n",
    "categorical_columns = data.select_dtypes(include=['object']).columns\n",
    "\n",
    "label_encoders = {}\n",
    "for col in categorical_columns:\n",
    "    le = LabelEncoder()\n",
    "    data[col] = le.fit_transform(data[col])\n",
    "    label_encoders[col] = le\n",
    "\n",
    "# Confirm preprocessing\n",
    "print(data.head())"
   ]
  },
  {
   "cell_type": "code",
   "execution_count": 10,
   "id": "c3fe946f-adbe-45f0-baac-adc32f67810b",
   "metadata": {
    "tags": []
   },
   "outputs": [],
   "source": [
    "# Define features and target variable\n",
    "X = data.drop(columns=[\"CustomerID\", \"Churn\"])  # Drop ID and target column\n",
    "y = data[\"Churn\"]"
   ]
  },
  {
   "cell_type": "code",
   "execution_count": 11,
   "id": "8b2e9332-78ac-4e3c-bde4-e5dba40908d0",
   "metadata": {
    "tags": []
   },
   "outputs": [
    {
     "name": "stdout",
     "output_type": "stream",
     "text": [
      "Training data size: (800, 19)\n",
      "Testing data size: (200, 19)\n"
     ]
    }
   ],
   "source": [
    "# Split data into training and testing sets\n",
    "X_train, X_test, y_train, y_test = train_test_split(X, y, test_size=0.2, random_state=42)\n",
    "\n",
    "print(\"Training data size:\", X_train.shape)\n",
    "print(\"Testing data size:\", X_test.shape)"
   ]
  },
  {
   "cell_type": "code",
   "execution_count": 12,
   "id": "e73b6509-4f9f-4dff-b7e5-431c81e0a36a",
   "metadata": {
    "tags": []
   },
   "outputs": [
    {
     "name": "stdout",
     "output_type": "stream",
     "text": [
      "Decision Tree Classification Report:\n",
      "              precision    recall  f1-score   support\n",
      "\n",
      "           0       0.72      0.73      0.72       145\n",
      "           1       0.25      0.24      0.24        55\n",
      "\n",
      "    accuracy                           0.59       200\n",
      "   macro avg       0.48      0.48      0.48       200\n",
      "weighted avg       0.59      0.59      0.59       200\n",
      "\n",
      "Accuracy: 0.595\n"
     ]
    }
   ],
   "source": [
    "# Train Decision Tree Classifier\n",
    "dt_model = DecisionTreeClassifier(random_state=42)\n",
    "dt_model.fit(X_train, y_train)\n",
    "\n",
    "# Predictions\n",
    "y_pred_dt = dt_model.predict(X_test)\n",
    "\n",
    "# Evaluate model\n",
    "print(\"Decision Tree Classification Report:\")\n",
    "print(classification_report(y_test, y_pred_dt))\n",
    "print(\"Accuracy:\", accuracy_score(y_test, y_pred_dt))"
   ]
  },
  {
   "cell_type": "code",
   "execution_count": 14,
   "id": "8c4947cb-908d-49d3-bd85-06d3850b6e1e",
   "metadata": {
    "tags": []
   },
   "outputs": [
    {
     "name": "stdout",
     "output_type": "stream",
     "text": [
      "XGBoost Classification Report:\n",
      "              precision    recall  f1-score   support\n",
      "\n",
      "           0       0.72      0.83      0.78       145\n",
      "           1       0.27      0.16      0.20        55\n",
      "\n",
      "    accuracy                           0.65       200\n",
      "   macro avg       0.50      0.50      0.49       200\n",
      "weighted avg       0.60      0.65      0.62       200\n",
      "\n",
      "Accuracy: 0.65\n"
     ]
    }
   ],
   "source": [
    "# Train XGBoost Classifier\n",
    "xgb_model = xgb.XGBClassifier(random_state=42, eval_metric=\"logloss\")\n",
    "xgb_model.fit(X_train, y_train)\n",
    "\n",
    "# Predictions\n",
    "y_pred_xgb = xgb_model.predict(X_test)\n",
    "\n",
    "# Evaluate model\n",
    "print(\"XGBoost Classification Report:\")\n",
    "print(classification_report(y_test, y_pred_xgb))\n",
    "print(\"Accuracy:\", accuracy_score(y_test, y_pred_xgb))"
   ]
  },
  {
   "cell_type": "code",
   "execution_count": 15,
   "id": "195688fa-8585-45e3-a53d-aa9cdc04c04b",
   "metadata": {
    "tags": []
   },
   "outputs": [
    {
     "name": "stdout",
     "output_type": "stream",
     "text": [
      "Decision Tree ROC-AUC Score: 0.4836990595611285\n",
      "XGBoost ROC-AUC Score: 0.533667711598746\n"
     ]
    }
   ],
   "source": [
    "# Calculate ROC-AUC scores\n",
    "roc_auc_dt = roc_auc_score(y_test, dt_model.predict_proba(X_test)[:, 1])\n",
    "roc_auc_xgb = roc_auc_score(y_test, xgb_model.predict_proba(X_test)[:, 1])\n",
    "\n",
    "print(\"Decision Tree ROC-AUC Score:\", roc_auc_dt)\n",
    "print(\"XGBoost ROC-AUC Score:\", roc_auc_xgb)"
   ]
  },
  {
   "cell_type": "code",
   "execution_count": 17,
   "id": "4412a21d-3689-4cc9-9a99-0ad6eb85aff0",
   "metadata": {
    "tags": []
   },
   "outputs": [
    {
     "data": {
      "image/png": "[encoded data removed]",
      "text/plain": [
       "<Figure size 640x480 with 1 Axes>"
      ]
     },
     "metadata": {},
     "output_type": "display_data"
    }
   ],
   "source": [
    "# Plot feature importance for XGBoost\n",
    "xgb.plot_importance(xgb_model, max_num_features=10)\n",
    "plt.title(\"Top 10 Feature Importances - XGBoost\")\n",
    "plt.show()"
   ]
  },
  {
   "cell_type": "code",
   "execution_count": 18,
   "id": "5df21b3d-9999-42ed-9a97-f32814193d0a",
   "metadata": {
    "tags": []
   },
   "outputs": [
    {
     "data": {
      "text/plain": [
       "['xgboost_model.pkl']"
      ]
     },
     "execution_count": 18,
     "metadata": {},
     "output_type": "execute_result"
    }
   ],
   "source": [
    "import joblib\n",
    "\n",
    "# Save Decision Tree model\n",
    "joblib.dump(dt_model, \"decision_tree_model.pkl\")\n",
    "\n",
    "# Save XGBoost model\n",
    "joblib.dump(xgb_model, \"xgboost_model.pkl\")"
   ]
  },
  {
   "cell_type": "code",
   "execution_count": 19,
   "id": "d6368c18-05bb-4953-a157-cf735c9cb06f",
   "metadata": {
    "tags": []
   },
   "outputs": [
    {
     "name": "stdout",
     "output_type": "stream",
     "text": [
      "Decision Tree Prediction: [1]\n",
      "XGBoost Prediction: [0]\n"
     ]
    }
   ],
   "source": [
    "# Load models\n",
    "dt_model_loaded = joblib.load(\"decision_tree_model.pkl\")\n",
    "xgb_model_loaded = joblib.load(\"xgboost_model.pkl\")\n",
    "\n",
    "# Predict using loaded models\n",
    "sample_data = X_test.iloc[:1]  # Take a single row for prediction\n",
    "print(\"Decision Tree Prediction:\", dt_model_loaded.predict(sample_data))\n",
    "print(\"XGBoost Prediction:\", xgb_model_loaded.predict(sample_data))"
   ]
  },
  {
   "cell_type": "code",
   "execution_count": null,
   "id": "e16afd8b-5da7-4bdf-a7e7-bf8f9d3faa44",
   "metadata": {},
   "outputs": [],
   "source": []
  }
 ],
 "metadata": {
  "kernelspec": {
   "display_name": "Python 3 (ipykernel)",
   "language": "python",
   "name": "python3"
  },
  "language_info": {
   "codemirror_mode": {
    "name": "ipython",
    "version": 3
   },
   "file_extension": ".py",
   "mimetype": "text/x-python",
   "name": "python",
   "nbconvert_exporter": "python",
   "pygments_lexer": "ipython3",
   "version": "3.11.5"
  }
 },
 "nbformat": 4,
 "nbformat_minor": 5
}
